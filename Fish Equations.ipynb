{
 "metadata": {
  "name": "Fish Equations"
 },
 "nbformat": 3,
 "nbformat_minor": 0,
 "worksheets": [
  {
   "cells": [
    {
     "cell_type": "markdown",
     "metadata": {},
     "source": [
      "$\\textbf{Fish Population}$\n",
      "\n",
      "Growth Rate\n",
      "\n",
      "Growth over time period: $t$\n",
      "\n",
      "Growth Rate: $deltaPop$\n",
      "\n",
      "Initial Population: $pop0$ \n",
      "\n",
      "$\\displaystyle newPop = \\frac{deltaPop \\times pop0}{t}$"
     ]
    },
    {
     "cell_type": "code",
     "collapsed": false,
     "input": [
      "def growthFunc(pop0, deltaPop, t):\n",
      "    from __future__ import division\n",
      "    return (deltaPop * pop0)/(t) "
     ],
     "language": "python",
     "metadata": {},
     "outputs": []
    },
    {
     "cell_type": "markdown",
     "metadata": {},
     "source": [
      "$\\textbf{Profit Function}$\n",
      "\n",
      "Price of fish: $p$\n",
      "\n",
      "Quantity of fish: $q$\n",
      "\n",
      "Labor cost: $w$\n",
      "\n",
      "Time: $t$\n",
      "\n",
      "Fixed Capital cost: $v$\n",
      "\n",
      "Profit: $\\pi$\n",
      "\n",
      "$\\pi = (p \\times q) - ((w \\times t) + v)$"
     ]
    },
    {
     "cell_type": "code",
     "collapsed": false,
     "input": [
      "def profit(p, q, w, t, v):\n",
      "    return (p*q)-((w*t)-v)"
     ],
     "language": "python",
     "metadata": {},
     "outputs": []
    },
    {
     "cell_type": "markdown",
     "metadata": {},
     "source": [
      "$\\textbf{Effort Function}$\n",
      "\n",
      "For this model, assume that each fisher is self employed and thus individual effort function is dependent upon profit such that\n",
      "\n",
      "Effort, $E(\\pi, probCatch) = \\pi \\times probCatch$"
     ]
    },
    {
     "cell_type": "code",
     "collapsed": false,
     "input": [
      "def effort(p, q, w, t, v, probCatch=0.5):\n",
      "    return profit(p, q, w, t, v)*probCatch"
     ],
     "language": "python",
     "metadata": {},
     "outputs": []
    },
    {
     "cell_type": "markdown",
     "metadata": {},
     "source": [
      "$\\textbf{Expected Value }$ as a part of the effort function\n",
      "\n",
      "Probability of catching a fish during time t: $probCatch$\n",
      "\n",
      "Expected Value equation: $probCatch \\times profit + (1-probCatch) \\times - w$\n",
      "\n",
      "Where $probCatch$ is the result of the effort function."
     ]
    },
    {
     "cell_type": "code",
     "collapsed": false,
     "input": [
      "def expectedValue(p, q, w, t, v, pr=0.5):\n",
      "    probCatch = effort(p, q, w, t, v, pr=0.5)\n",
      "    return probCatch*p+(1-probCatch)*w"
     ],
     "language": "python",
     "metadata": {},
     "outputs": []
    },
    {
     "cell_type": "markdown",
     "metadata": {},
     "source": []
    }
   ],
   "metadata": {}
  }
 ]
}