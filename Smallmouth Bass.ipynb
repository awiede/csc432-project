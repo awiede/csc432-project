{
 "metadata": {
  "name": "Smallmouth Bass"
 },
 "nbformat": 3,
 "nbformat_minor": 0,
 "worksheets": [
  {
   "cells": [
    {
     "cell_type": "markdown",
     "metadata": {},
     "source": [
      "$\\textbf{Smallmouth Bass}$\n",
      "\n",
      "I have chosen to apply my model to the fishing of smallmouth bass in a closed fishing community. I am going to assume that some kind of government interference has prohibited the import of smallmouth bass from other towns outside the community of the model. "
     ]
    },
    {
     "cell_type": "code",
     "collapsed": false,
     "input": [],
     "language": "python",
     "metadata": {},
     "outputs": []
    }
   ],
   "metadata": {}
  }
 ]
}