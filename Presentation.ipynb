{
 "metadata": {
  "name": "Presentation"
 },
 "nbformat": 3,
 "nbformat_minor": 0,
 "worksheets": [
  {
   "cells": [
    {
     "cell_type": "code",
     "collapsed": false,
     "input": [
      "import numpy as np\n",
      "import pandas as pd\n",
      "import matplotlib.pyplot as plt\n",
      "from scipy import integrate"
     ],
     "language": "python",
     "metadata": {},
     "outputs": [],
     "prompt_number": 14
    },
    {
     "cell_type": "code",
     "collapsed": false,
     "input": [
      "from presentation_funcs import *"
     ],
     "language": "python",
     "metadata": {},
     "outputs": [],
     "prompt_number": 15
    },
    {
     "cell_type": "markdown",
     "metadata": {},
     "source": [
      "$$\\textbf{Equations}$$\n",
      "\n",
      "$P = \\mbox{population}$\n",
      "\n",
      "$r = \\mbox{growth rate}$\n",
      "\n",
      "$t = \\mbox{time (in months)}$\n",
      "\n",
      "$M = \\mbox{carrying capacity}$\n",
      "\n",
      "$D = \\mbox{number of deaths}$\n",
      "\n",
      "$\\frac{dP}{dt} = r \\cdot P - \\frac{dD}{dt}$\n",
      "\n",
      "$\\frac{dD}{dt} = \\left(r \\cdot \\frac{P}{M}\\right) \\cdot P$\n",
      "\n",
      "$\\frac{dP}{dt} = r\\cdot P-\\left(r \\cdot \\frac{P}{M}\\right)\\cdot P = r \\cdot \\left( 1 - \\frac{P}{M} \\right) \\cdot P$\n",
      "\n",
      "$\\textbf{Profit Functions}$\n",
      "\n",
      "price $= 40-\\frac{1}{2}q$  if  $q \\leq 78$\n",
      "\n",
      "price $= 1$  if  $q>78$\n",
      "\n",
      "$C = FC +VC \\cdot q$\n",
      "\n",
      "$R = \\mbox{price } \\times q$\n",
      "\n",
      "$\\pi = R-C$"
     ]
    },
    {
     "cell_type": "code",
     "collapsed": false,
     "input": [
      "def simulationTime(P,t,r,M): #effort with respect to time\n",
      "    data=np.zeros_like(t)\n",
      "    for i in range(len(t)-1):\n",
      "        if i==0:\n",
      "            data[i]=dP_dt(P,t,r,M,i) + P\n",
      "        else:\n",
      "            data[i]=dP_dt(data[i-1],t,r,M,i)+data[i-1]\n",
      "    return data"
     ],
     "language": "python",
     "metadata": {},
     "outputs": [],
     "prompt_number": 16
    },
    {
     "cell_type": "code",
     "collapsed": false,
     "input": [
      "sim_time=simulationTime(pop0, time_points, birth_frac, carry_capac)\n",
      "fish_data=pd.DataFrame(np.column_stack((time_points,sim_time)),columns=[\"Time (months)\", \"Fish\"])\n",
      "print fish_data"
     ],
     "language": "python",
     "metadata": {},
     "outputs": [
      {
       "output_type": "stream",
       "stream": "stdout",
       "text": [
        "    Time (months)         Fish\n",
        "0               1  1035.521564\n",
        "1               2  1032.921804\n",
        "2               3  1154.320958\n",
        "3               4  1177.006727\n",
        "4               5  1142.746832\n",
        "5               6  1237.550904\n",
        "6               7  1232.754116\n",
        "7               8  1236.834180\n",
        "8               9  1274.154263\n",
        "9              10  1312.113597\n",
        "10             11  1367.346722\n",
        "11             12  1376.000023\n",
        "12             13  1455.686588\n",
        "13             14  1517.320147\n",
        "14             15  1529.763711\n",
        "15             16  1550.437083\n",
        "16             17  1609.408412\n",
        "17             18  1660.618471\n",
        "18             19  1672.525663\n",
        "19             20  1669.704255\n",
        "20             21  1735.408074\n",
        "21             22  1753.808713\n",
        "22             23  1786.520887\n",
        "23             24  1770.558118\n",
        "24             25  1797.615204\n",
        "25             26  1803.002844\n",
        "26             27  1783.668212\n",
        "27             28  1771.422189\n",
        "28             29  1811.080016\n",
        "29             30  1825.529597\n",
        "30             31  1856.957741\n",
        "31             32  1884.329371\n",
        "32             33  1872.856114\n",
        "33             34  1889.572109\n",
        "34             35  1901.555872\n",
        "35             36  1903.055535\n",
        "36             37  1918.410304\n",
        "37             38  1937.915676\n",
        "38             39  1946.244824\n",
        "39             40  1958.752132\n",
        "40             41  1947.540495\n",
        "41             42  1929.651488\n",
        "42             43  1927.846932\n",
        "43             44  1910.605489\n",
        "44             45  1921.195815\n",
        "45             46  1936.662494\n",
        "46             47  1911.784791\n",
        "47             48     0.000000\n"
       ]
      }
     ],
     "prompt_number": 26
    },
    {
     "cell_type": "code",
     "collapsed": false,
     "input": [
      "fig, ax = plt.subplots(subplot_kw=dict(xlabel=\"Time (months)\",ylabel=\"Fish Population\"))\n",
      "ax.plot(time_points,sim_time, \"k\", lw=2)\n",
      "plt.xlim(1,)\n",
      "fig.suptitle(\"Fish Population (time based)\")\n",
      "plt.show()"
     ],
     "language": "python",
     "metadata": {},
     "outputs": [],
     "prompt_number": 6
    },
    {
     "cell_type": "markdown",
     "metadata": {},
     "source": [
      "Profit Based Simulation"
     ]
    },
    {
     "cell_type": "code",
     "collapsed": false,
     "input": [
      "def simulationProfit(P,t,r,M):\n",
      "    data=np.zeros_like(t)\n",
      "    fish_caught=np.zeros_like(t)\n",
      "    for i in range(len(t)):\n",
      "        if i==0:\n",
      "            data[i]=dP_dpi(P,t,r,M,i,fish_caught[i],variable_cost,fixed_cost) + P\n",
      "            fish_caught[i]=fishCaughtPi(P,0,variable_cost,fixed_cost)\n",
      "        else:\n",
      "            data[i]=dP_dpi(data[i-1],t,r,M,i,fishCaughtPi(P,fish_caught[i-1],variable_cost,fixed_cost),variable_cost,fixed_cost) + data[i-1]\n",
      "            fish_caught[i]=fishCaughtPi(P,fish_caught[i-1],variable_cost,fixed_cost)\n",
      "    return data\n",
      "\n",
      "def demand(P,t,r,M):\n",
      "    data=simulationProfit(P,t,r,M)\n",
      "    demand=np.zeros_like(t)\n",
      "    for i in range(len(t)):\n",
      "        if i==0:\n",
      "            demand[i]=fishCaughtPi(data[i],0,variable_cost,fixed_cost)\n",
      "        else:\n",
      "            demand[i]=fishCaughtPi(data[i],demand[i-1],variable_cost,fixed_cost)\n",
      "    return demand\n",
      "\n",
      "def priceInSim(P,t,r,M):\n",
      "    prices=np.zeros_like(t)\n",
      "    fish_caught=demand(P,t,r,M)\n",
      "    for i in range(len(t)):\n",
      "        if i==0:\n",
      "            prices[i]=40\n",
      "        else:\n",
      "            prices[i]=priceFunc(fish_caught[i])\n",
      "    return prices"
     ],
     "language": "python",
     "metadata": {},
     "outputs": [],
     "prompt_number": 27
    },
    {
     "cell_type": "code",
     "collapsed": false,
     "input": [
      "def average_price(prices):\n",
      "    avg=0.0\n",
      "    for e in prices:\n",
      "        avg+=e\n",
      "    return avg/len(prices)\n",
      "\n",
      "def average_pop(pop):\n",
      "    avg=0.0\n",
      "    for e in pop:\n",
      "        avg+=e \n",
      "    return avg/len(pop)"
     ],
     "language": "python",
     "metadata": {},
     "outputs": [],
     "prompt_number": 29
    },
    {
     "cell_type": "code",
     "collapsed": false,
     "input": [
      "sim_pi=simulationProfit(pop0, time_points,birth_frac,carry_capac)\n",
      "dem=demand(pop0,time_points,birth_frac,carry_capac)\n",
      "p_in_sim=priceInSim(pop0,time_points,birth_frac,carry_capac)\n",
      "\n",
      "print \"Average Price\"\n",
      "print average_price(p_in_sim)\n",
      "print \"Average Population\"\n",
      "print average_pop(sim_pi)\n",
      "\n",
      "fish_pi_data=pd.DataFrame(np.column_stack((time_points,sim_pi,dem,p_in_sim)),columns=[\"Time (months)\", \"Fish\",\"Demand\",\"Price\"])\n",
      "print fish_pi_data"
     ],
     "language": "python",
     "metadata": {},
     "outputs": [
      {
       "output_type": "stream",
       "stream": "stdout",
       "text": [
        "Average Price\n",
        "38.3198686308\n",
        "Average Population\n",
        "1859.19815107\n",
        "    Time (months)         Fish     Demand      Price\n",
        "0               1  1255.096470  -2.690725  40.000000\n",
        "1               2  1297.950961   8.196505  39.064899\n",
        "2               3  1365.971811  86.347497  37.987548\n",
        "3               4  1422.148018  42.768251  39.711924\n",
        "4               5  1513.830133   9.145146  36.118699\n",
        "5               6  1596.942122  93.193253  39.973911\n",
        "6               7  1635.675969  27.699928  40.922258\n",
        "7               8  2082.013240  49.265182  38.439548\n",
        "8               9  2007.653347   9.175145  36.414739\n",
        "9              10  2006.513779  10.844092  38.436023\n",
        "10             11  1994.490909  64.601055  36.555178\n",
        "11             12  1975.959818  57.911334  36.985900\n",
        "12             13  1903.206299   1.238386  39.983716\n",
        "13             14  1892.125558 -58.584116  41.370965\n",
        "14             15  1900.623568  49.828629  39.132074\n",
        "15             16  1966.951699  82.175961  36.625476\n",
        "16             17  1943.908636  52.560910  38.336592\n",
        "17             18  1910.749981  26.041680  36.378100\n",
        "18             19  1883.025230  15.561228  37.894256\n",
        "19             20  2199.667101  86.043769  38.051734\n",
        "20             21  2096.277051  92.251765  39.703147\n",
        "21             22  2064.188539  80.540474  37.425219\n",
        "22             23  2153.107391  48.014166  38.608409\n",
        "23             24  2109.892737  51.366443  38.908788\n",
        "24             25  2075.043100  64.250565  38.667942\n",
        "25             26  1999.459410  67.536177  38.049555\n",
        "26             27  1969.847641  15.375865  38.893150\n",
        "27             28  1748.287754  43.254765  38.123726\n",
        "28             29  1787.676602  54.897759  39.702175\n",
        "29             30  1809.567150  11.220883  39.562987\n",
        "30             31  1830.314086  34.509167  35.541859\n",
        "31             32  1889.335985  46.915371  38.170766\n",
        "32             33  1912.269665  12.493121  37.194446\n",
        "33             34  1745.243895  37.470422  37.914162\n",
        "34             35  1781.508521  33.753553  39.760658\n",
        "35             36  1835.113005  45.235030  30.967199\n",
        "36             37  1219.085020  14.568090  37.786876\n",
        "37             38  1306.306107  19.840368  38.269430\n",
        "38             39  1524.094916  30.491699  38.446175\n",
        "39             40  1578.506921  69.750410  37.369184\n",
        "40             41  1617.879323  61.275935  38.275111\n",
        "41             42  1628.088917  74.951902  36.970316\n",
        "42             43  2858.436863  69.144600  39.889941\n",
        "43             44  2496.415919  46.621099  42.740109\n",
        "44             45  2292.848250  74.824141  38.782601\n",
        "45             46  2115.816141  70.923977  37.920172\n",
        "46             47  2065.084221  18.219814  38.097348\n",
        "47             48  1977.311476  82.325056  39.228704\n"
       ]
      }
     ],
     "prompt_number": 74
    },
    {
     "cell_type": "code",
     "collapsed": false,
     "input": [
      "fig, ax = plt.subplots(subplot_kw=dict(xlabel=\"Time (months)\",ylabel=\"Fish Population\"))\n",
      "ax.plot(time_points,sim_pi, \"k\", lw=2)\n",
      "plt.xlim(1,)\n",
      "fig.suptitle(\"Supply (Profit Based)\")\n",
      "plt.show()"
     ],
     "language": "python",
     "metadata": {},
     "outputs": [],
     "prompt_number": 11
    },
    {
     "cell_type": "code",
     "collapsed": false,
     "input": [
      "fig, ax = plt.subplots(subplot_kw=dict(xlabel=\"Time (months)\",ylabel=\"Fish Caught\"))\n",
      "ax.plot(time_points,dem, \"b\", lw=2)\n",
      "plt.xlim(1,)\n",
      "fig.suptitle(\"Fish Caught\")\n",
      "plt.show()"
     ],
     "language": "python",
     "metadata": {},
     "outputs": [],
     "prompt_number": 12
    },
    {
     "cell_type": "code",
     "collapsed": false,
     "input": [
      "fig, ax = plt.subplots(subplot_kw=dict(xlabel=\"Time (months)\",ylabel=\"Price of Fish\"))\n",
      "ax.plot(time_points,p_in_sim, \"g\", lw=2)\n",
      "plt.xlim(1,)\n",
      "fig.suptitle(\"Price\")\n",
      "plt.show()"
     ],
     "language": "python",
     "metadata": {},
     "outputs": [],
     "prompt_number": 13
    }
   ],
   "metadata": {}
  }
 ]
}